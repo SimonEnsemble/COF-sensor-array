{
 "cells": [
  {
   "cell_type": "code",
   "execution_count": 66,
   "metadata": {},
   "outputs": [],
   "source": [
    "# import pip"
   ]
  },
  {
   "cell_type": "code",
   "execution_count": 67,
   "metadata": {},
   "outputs": [
    {
     "name": "stderr",
     "output_type": "stream",
     "text": [
      "WARNING: pip is being invoked by an old script wrapper. This will fail in a future version of pip.\n",
      "Please see https://github.com/pypa/pip/issues/5599 for advice on fixing the underlying issue.\n",
      "To avoid this problem you can invoke Python with '-m pip' instead of running pip directly.\n"
     ]
    },
    {
     "name": "stdout",
     "output_type": "stream",
     "text": [
      "Collecting openpyxl\n",
      "  Downloading openpyxl-3.1.5-py2.py3-none-any.whl (250 kB)\n",
      "Collecting et-xmlfile\n",
      "  Downloading et_xmlfile-1.1.0-py3-none-any.whl (4.7 kB)\n",
      "Installing collected packages: et-xmlfile, openpyxl\n",
      "Successfully installed et-xmlfile-1.1.0 openpyxl-3.1.5\n"
     ]
    },
    {
     "name": "stderr",
     "output_type": "stream",
     "text": [
      "WARNING: You are using pip version 21.1.3; however, version 24.1.1 is available.\n",
      "You should consider upgrading via the 'c:\\Python39\\python.exe -m pip install --upgrade pip' command.\n"
     ]
    },
    {
     "data": {
      "text/plain": [
       "0"
      ]
     },
     "execution_count": 67,
     "metadata": {},
     "output_type": "execute_result"
    }
   ],
   "source": [
    "# pip.main([\"install\", \"openpyxl\"])"
   ]
  },
  {
   "cell_type": "code",
   "execution_count": 68,
   "metadata": {},
   "outputs": [],
   "source": [
    "import pandas as pd\n",
    "from pathlib import Path"
   ]
  },
  {
   "cell_type": "code",
   "execution_count": 90,
   "metadata": {},
   "outputs": [
    {
     "name": "stdout",
     "output_type": "stream",
     "text": [
      "c:\\github things\\cof-sensor-array-v2\\Raw_sensing_data\\CO\\Cu-COF-DC-8\\N2_dry\\original\\Cu-COF_CO_80ppm_dryN2_device_2.xlsx\n",
      "c:\\github things\\cof-sensor-array-v2\\Raw_sensing_data\\CO\\Cu-COF-DC-8\\N2_dry\\original\\Cu-COF_CO_80ppm_dryN2_device_5.xlsx\n",
      "c:\\github things\\cof-sensor-array-v2\\Raw_sensing_data\\CO\\Cu-COF-DC-8\\N2_dry\\reproducibility\\GB_S_I_183_Cu-COF-DC-8_CO_80ppm_dryN2.xlsx\n"
     ]
    }
   ],
   "source": [
    "path = Path.cwd().joinpath(\"Raw_sensing_data\",\"CO\",\"Cu-COF-DC-8\",\"N2_dry\").rglob(\"*.xlsx\")\n",
    "\n",
    "for i in path:\n",
    "    print(i)"
   ]
  },
  {
   "cell_type": "code",
   "execution_count": 127,
   "metadata": {},
   "outputs": [],
   "source": [
    "def read_data(cof, gas, carrier, ppm):\n",
    "\n",
    "    # get path to appropriate file\n",
    "    path = Path.cwd().joinpath(\"Raw_sensing_data\",gas,cof,carrier,).rglob(\"*.xlsx\")\n",
    "    #print(path)\n",
    "    # some folders contain multiple excel files, so append all to a list\n",
    "    files = []\n",
    "    for file in path:\n",
    "        files.append(file)\n",
    "    print(files)\n",
    "    # extract data from Excel files in list\n",
    "    dfs = []\n",
    "    for p in files:\n",
    "        print(p)\n",
    "        df = pd.read_excel(p,header=6,names=['time','DeltaG/G0'],usecols=\"B,D\")\n",
    "       \n",
    "        df = df.dropna()\n",
    "        dfs.append(df)\n",
    "        \n",
    "        \n",
    "    return dfs\n",
    "# returns pandas data frame with this data. two columns: time, DeltaG/G0"
   ]
  },
  {
   "cell_type": "code",
   "execution_count": 128,
   "metadata": {},
   "outputs": [
    {
     "name": "stdout",
     "output_type": "stream",
     "text": [
      "[WindowsPath('c:/github things/cof-sensor-array-v2/Raw_sensing_data/CO/Cu-COF-DC-8/N2_dry/original/Cu-COF_CO_80ppm_dryN2_device_2.xlsx'), WindowsPath('c:/github things/cof-sensor-array-v2/Raw_sensing_data/CO/Cu-COF-DC-8/N2_dry/original/Cu-COF_CO_80ppm_dryN2_device_5.xlsx'), WindowsPath('c:/github things/cof-sensor-array-v2/Raw_sensing_data/CO/Cu-COF-DC-8/N2_dry/reproducibility/GB_S_I_183_Cu-COF-DC-8_CO_80ppm_dryN2.xlsx')]\n",
      "c:\\github things\\cof-sensor-array-v2\\Raw_sensing_data\\CO\\Cu-COF-DC-8\\N2_dry\\original\\Cu-COF_CO_80ppm_dryN2_device_2.xlsx\n",
      "c:\\github things\\cof-sensor-array-v2\\Raw_sensing_data\\CO\\Cu-COF-DC-8\\N2_dry\\original\\Cu-COF_CO_80ppm_dryN2_device_5.xlsx\n",
      "c:\\github things\\cof-sensor-array-v2\\Raw_sensing_data\\CO\\Cu-COF-DC-8\\N2_dry\\reproducibility\\GB_S_I_183_Cu-COF-DC-8_CO_80ppm_dryN2.xlsx\n",
      "[        time  DeltaG/G0\n",
      "0        0.5  99.990808\n",
      "1        1.0  99.908078\n",
      "2        1.5  99.080728\n",
      "3        2.0  90.807819\n",
      "4        2.5   8.072806\n",
      "...      ...        ...\n",
      "7717  3859.0   0.000000\n",
      "7718  3859.5   0.000000\n",
      "7719  3860.0   0.000000\n",
      "7720  3860.5   0.000000\n",
      "7721  3861.0   0.000000\n",
      "\n",
      "[7722 rows x 2 columns],         time  DeltaG/G0\n",
      "0        0.5  99.948603\n",
      "1        1.0  99.486029\n",
      "2        1.5  94.859993\n",
      "3        2.0  48.602937\n",
      "4        2.5   1.654691\n",
      "...      ...        ...\n",
      "7717  3859.0   0.000000\n",
      "7718  3859.5  -0.156610\n",
      "7719  3860.0   0.000000\n",
      "7720  3860.5  -0.156610\n",
      "7721  3861.0  -0.156610\n",
      "\n",
      "[7722 rows x 2 columns],           time     DeltaG/G0\n",
      "0          0.5      0.304357\n",
      "1          1.0     -0.332267\n",
      "2          1.5      0.082845\n",
      "3          2.0     -0.609156\n",
      "4          2.5      0.221511\n",
      "...        ...           ...\n",
      "46842  23421.5 -15645.563126\n",
      "46843  23422.0 -15656.638697\n",
      "46844  23422.5 -15648.309868\n",
      "46845  23423.0 -15651.100912\n",
      "46846  23423.5    100.000000\n",
      "\n",
      "[25505 rows x 2 columns]]\n"
     ]
    }
   ],
   "source": [
    "print(read_data(\"Cu-COF-DC-8\",\"CO\",\"N2_dry\",80))"
   ]
  },
  {
   "cell_type": "code",
   "execution_count": null,
   "metadata": {},
   "outputs": [],
   "source": []
  }
 ],
 "metadata": {
  "kernelspec": {
   "display_name": "Python 3",
   "language": "python",
   "name": "python3"
  },
  "language_info": {
   "codemirror_mode": {
    "name": "ipython",
    "version": 3
   },
   "file_extension": ".py",
   "mimetype": "text/x-python",
   "name": "python",
   "nbconvert_exporter": "python",
   "pygments_lexer": "ipython3",
   "version": "3.9.2"
  }
 },
 "nbformat": 4,
 "nbformat_minor": 2
}
