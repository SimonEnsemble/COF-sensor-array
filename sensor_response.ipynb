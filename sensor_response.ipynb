{
 "cells": [
  {
   "cell_type": "code",
   "execution_count": 66,
   "metadata": {},
   "outputs": [],
   "source": [
    "# import pip"
   ]
  },
  {
   "cell_type": "code",
   "execution_count": 67,
   "metadata": {},
   "outputs": [
    {
     "name": "stderr",
     "output_type": "stream",
     "text": [
      "WARNING: pip is being invoked by an old script wrapper. This will fail in a future version of pip.\n",
      "Please see https://github.com/pypa/pip/issues/5599 for advice on fixing the underlying issue.\n",
      "To avoid this problem you can invoke Python with '-m pip' instead of running pip directly.\n"
     ]
    },
    {
     "name": "stdout",
     "output_type": "stream",
     "text": [
      "Collecting openpyxl\n",
      "  Downloading openpyxl-3.1.5-py2.py3-none-any.whl (250 kB)\n",
      "Collecting et-xmlfile\n",
      "  Downloading et_xmlfile-1.1.0-py3-none-any.whl (4.7 kB)\n",
      "Installing collected packages: et-xmlfile, openpyxl\n",
      "Successfully installed et-xmlfile-1.1.0 openpyxl-3.1.5\n"
     ]
    },
    {
     "name": "stderr",
     "output_type": "stream",
     "text": [
      "WARNING: You are using pip version 21.1.3; however, version 24.1.1 is available.\n",
      "You should consider upgrading via the 'c:\\Python39\\python.exe -m pip install --upgrade pip' command.\n"
     ]
    },
    {
     "data": {
      "text/plain": [
       "0"
      ]
     },
     "execution_count": 67,
     "metadata": {},
     "output_type": "execute_result"
    }
   ],
   "source": [
    "# pip.main([\"install\", \"openpyxl\"])"
   ]
  },
  {
   "cell_type": "code",
   "execution_count": 3,
   "metadata": {},
   "outputs": [
    {
     "name": "stderr",
     "output_type": "stream",
     "text": [
      "Matplotlib is building the font cache; this may take a moment.\n"
     ]
    }
   ],
   "source": [
    "import pandas as pd\n",
    "from pathlib import Path\n",
    "import matplotlib.pyplot as plt\n",
    "import numpy as np"
   ]
  },
  {
   "cell_type": "code",
   "execution_count": 90,
   "metadata": {},
   "outputs": [
    {
     "name": "stdout",
     "output_type": "stream",
     "text": [
      "c:\\github things\\cof-sensor-array-v2\\Raw_sensing_data\\CO\\Cu-COF-DC-8\\N2_dry\\original\\Cu-COF_CO_80ppm_dryN2_device_2.xlsx\n",
      "c:\\github things\\cof-sensor-array-v2\\Raw_sensing_data\\CO\\Cu-COF-DC-8\\N2_dry\\original\\Cu-COF_CO_80ppm_dryN2_device_5.xlsx\n",
      "c:\\github things\\cof-sensor-array-v2\\Raw_sensing_data\\CO\\Cu-COF-DC-8\\N2_dry\\reproducibility\\GB_S_I_183_Cu-COF-DC-8_CO_80ppm_dryN2.xlsx\n"
     ]
    }
   ],
   "source": [
    "#path = Path.cwd().joinpath(\"Raw_sensing_data\",\"CO\",\"Cu-COF-DC-8\",\"N2_dry\").rglob(\"*.xlsx\")\n",
    "\n",
    "#for i in path:\n",
    "#    print(i)"
   ]
  },
  {
   "cell_type": "code",
   "execution_count": 5,
   "metadata": {},
   "outputs": [],
   "source": [
    "def read_data(cof, gas, carrier, ppm):\n",
    "\n",
    "    # get path to appropriate file\n",
    "    path = Path.cwd().joinpath(\"Raw_sensing_data\",gas,cof,carrier,).rglob(\"*.xlsx\")\n",
    "    #print(path)\n",
    "    # some folders contain multiple excel files, so append all to a list\n",
    "    files = []\n",
    "    for file in path:\n",
    "        files.append(file)\n",
    "    print(files)\n",
    "    # extract data from Excel files in list\n",
    "    dfs = []\n",
    "    for p in files:\n",
    "        df = pd.read_excel(p,header=6,names=['time','DeltaG/G0'],usecols=\"B,D\")\n",
    "       \n",
    "        df = df.dropna()\n",
    "        dfs.append(df)\n",
    "        \n",
    "        \n",
    "    return dfs\n",
    "# returns pandas data frame with this data. two columns: time, DeltaG/G0"
   ]
  },
  {
   "cell_type": "code",
   "execution_count": 37,
   "metadata": {},
   "outputs": [
    {
     "name": "stdout",
     "output_type": "stream",
     "text": [
      "[WindowsPath('c:/github things/cof-sensor-array-v2/Raw_sensing_data/H2S/Cu-COF-DC-8/air_dry/GB_S_I_186_2_Cu-COF-DC-8_H2S_80ppm_dryair.xlsx')]\n"
     ]
    }
   ],
   "source": [
    "#print(read_data(\"Cu-COF-DC-8\",\"CO\",\"N2_dry\",80))\n",
    "\n",
    "data = read_data(\"Cu-COF-DC-8\",\"H2S\",\"air_dry\",80)"
   ]
  },
  {
   "cell_type": "code",
   "execution_count": 54,
   "metadata": {},
   "outputs": [
    {
     "name": "stdout",
     "output_type": "stream",
     "text": [
      "          time     DeltaG/G0\n",
      "0          0.5     -4.777679\n",
      "1          1.0     -4.777679\n",
      "2          1.5     -4.696914\n",
      "3          2.0     -4.669704\n",
      "4          2.5     -4.561729\n",
      "...        ...           ...\n",
      "46842  23421.5 -15250.249422\n",
      "46843  23422.0 -15261.046926\n",
      "46844  23422.5 -15252.927203\n",
      "46845  23423.0 -15255.648174\n",
      "46846  23423.5    100.000000\n",
      "\n",
      "[46505 rows x 2 columns]\n"
     ]
    },
    {
     "data": {
      "text/plain": [
       "<AxesSubplot:xlabel='time'>"
      ]
     },
     "execution_count": 54,
     "metadata": {},
     "output_type": "execute_result"
    },
    {
     "data": {
      "image/png": "[encoded data removed]",
      "text/plain": [
       "<Figure size 640x480 with 1 Axes>"
      ]
     },
     "metadata": {},
     "output_type": "display_data"
    }
   ],
   "source": [
    "print(data[0])\n",
    "data[0].plot(x='time',y='DeltaG/G0',xlim=(749.5,1200),ylim=(0,100))\n",
    "\n",
    "#fig, ax = plt.subplots()\n",
    "#ax.plot(data[0][0],data[0][1])\n",
    "#plt.show()\n"
   ]
  },
  {
   "cell_type": "code",
   "execution_count": null,
   "metadata": {},
   "outputs": [],
   "source": [
    "class SensorResponse:\n",
    "    def _init_(self, cof, gas, carrier_gas, ppm):\n",
    "        self.cof = cof\n",
    "        self.gas = gas\n",
    "        self.carrier_gas = carrier_gas\n",
    "        self.ppm = ppm\n",
    "\n",
    "        self.data = read_data(cof,gas,carrier_gas,ppm)\n",
    "        \n",
    "     # read in the data, do processing to get the features.\n",
    "     # store data here too for viz\n",
    "        \n",
    "\n",
    "\n",
    "    def compute_initial_slope(self, nb_pts):\n",
    "        \n",
    "   #def compute_saturation(self):\n",
    "   #def compute_area(self):\n",
    "   #def viz(self, save=False): # viz the data along with the response features or function u fit to it.\n",
    "   #def vector_representation(self): # returns the vector characterizing the response."
   ]
  }
 ],
 "metadata": {
  "kernelspec": {
   "display_name": "Python 3",
   "language": "python",
   "name": "python3"
  },
  "language_info": {
   "codemirror_mode": {
    "name": "ipython",
    "version": 3
   },
   "file_extension": ".py",
   "mimetype": "text/x-python",
   "name": "python",
   "nbconvert_exporter": "python",
   "pygments_lexer": "ipython3",
   "version": "3.9.2"
  }
 },
 "nbformat": 4,
 "nbformat_minor": 2
}
